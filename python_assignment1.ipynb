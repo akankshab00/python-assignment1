{
  "cells": [
    {
      "cell_type": "markdown",
      "metadata": {
        "id": "view-in-github",
        "colab_type": "text"
      },
      "source": [
        "<a href=\"https://colab.research.google.com/github/akankshab00/python-assignment1/blob/main/python_assignment1.ipynb\" target=\"_parent\"><img src=\"https://colab.research.google.com/assets/colab-badge.svg\" alt=\"Open In Colab\"/></a>"
      ]
    },
    {
      "cell_type": "markdown",
      "id": "e141fcc5-2827-4214-9211-88a5a4621408",
      "metadata": {
        "id": "e141fcc5-2827-4214-9211-88a5a4621408"
      },
      "source": [
        "#                                           PYTHON ASSIGNMENT"
      ]
    },
    {
      "cell_type": "markdown",
      "id": "23fa81bd-6bac-4c9f-8831-bb349b1cce6b",
      "metadata": {
        "id": "23fa81bd-6bac-4c9f-8831-bb349b1cce6b"
      },
      "source": [
        "####    submitted by Akanksha Bhatt"
      ]
    },
    {
      "cell_type": "markdown",
      "id": "254c97cb-d366-44f7-9295-cb4ab7df238e",
      "metadata": {
        "id": "254c97cb-d366-44f7-9295-cb4ab7df238e"
      },
      "source": [
        "1. EXPLAIN THE KEY FEATURES OF PYTHON THAT MAKE IT POPULAR CHOICE FOR PROGRAMMING .\n",
        "\n",
        "   A. Python is popular for several reasons . its got a simple , readable syntax that makes it great for beginners . Python is also very versatile and easy to learn .\n",
        "    "
      ]
    },
    {
      "cell_type": "markdown",
      "id": "b3981cd3-1990-407b-b317-e9b304e397d8",
      "metadata": {
        "id": "b3981cd3-1990-407b-b317-e9b304e397d8"
      },
      "source": [
        "2. DESCRIBE THE ROLE OF PREDEFINED KEYWORDS WITH EXAMPLES IN PROGRAMMING.\n",
        "\n",
        "   A.Python Keywords are some predefined and reserved words in Python that have special meanings. Keywords are used to define the syntax of the coding. The keyword cannot be used as an identifier, function, or variable name. All the keywords in Python are written in lowercase except True and False.\n",
        "   Keywords in Python include: False, True, None, and, as, assert, async, await, def, del, elif, else, break, class, continue, except, finally, for, from, global, if, import, in, is, lambda, nonlocal, not, or, pass, raise, return, try, while, with and yield.\n",
        "\n",
        "   HERE ARE SOME EXAMPLES :"
      ]
    },
    {
      "cell_type": "code",
      "execution_count": 2,
      "id": "20922baa-070c-42bc-9fcd-2ed9711db043",
      "metadata": {
        "colab": {
          "base_uri": "https://localhost:8080/"
        },
        "id": "20922baa-070c-42bc-9fcd-2ed9711db043",
        "outputId": "c0c39c47-ef1b-47e7-e1c1-4028af248f60"
      },
      "outputs": [
        {
          "output_type": "stream",
          "name": "stdout",
          "text": [
            "example of True, False, and, or, not keywords\n",
            "True\n",
            "True\n",
            "True\n"
          ]
        }
      ],
      "source": [
        "print(\"example of True, False, and, or, not keywords\")\n",
        "\n",
        "#  compare two operands using and operator\n",
        "print(True and True)\n",
        "\n",
        "# compare two operands using or operator\n",
        "print(True or False)\n",
        "\n",
        "# use of not operator\n",
        "print(not False)\n"
      ]
    },
    {
      "cell_type": "code",
      "execution_count": 4,
      "id": "3c299839-2ec0-4b6b-921a-dc725ee09ee6",
      "metadata": {
        "colab": {
          "base_uri": "https://localhost:8080/"
        },
        "id": "3c299839-2ec0-4b6b-921a-dc725ee09ee6",
        "outputId": "2d7964ab-4489-46ec-fb0d-d70e32b3e2ac"
      },
      "outputs": [
        {
          "output_type": "stream",
          "name": "stdout",
          "text": [
            "1\n",
            "2\n",
            "3\n",
            "4\n",
            "5\n"
          ]
        }
      ],
      "source": [
        "#for loop\n",
        "for i in range(1, 11):\n",
        "\n",
        "    # print the value of i\n",
        "    print(i)\n",
        "\n",
        "    # check the value of i is less than 5\n",
        "    # if i lessthan 5 then continue loop\n",
        "    if i < 5:\n",
        "        continue\n",
        "\n",
        "    # if i greater than 5 then break loop\n",
        "    else:\n",
        "        break"
      ]
    },
    {
      "cell_type": "markdown",
      "id": "731c3c7b-cd9b-4512-9ee2-c9df6217e48c",
      "metadata": {
        "id": "731c3c7b-cd9b-4512-9ee2-c9df6217e48c"
      },
      "source": [
        "3. compare and contrast  Mutable and Immutable objects in Python with examples .\n",
        "\n",
        "   A.  Mutable - A mutable data type is one whose values can be changed. for example: List, Dictionaries, and Set\n",
        "       Immutable Data Type – An immutable data type is one in which the values can’t be changed or altered.For example: String and Tuples\n",
        "\n",
        "HERE ARE SOME EXAMPLES:-"
      ]
    },
    {
      "cell_type": "code",
      "execution_count": null,
      "id": "f21cbba9-7350-4697-9530-302cc249ee38",
      "metadata": {
        "scrolled": true,
        "id": "f21cbba9-7350-4697-9530-302cc249ee38",
        "outputId": "5f8d602c-3816-4dba-dc7b-e8c3814aa861"
      },
      "outputs": [
        {
          "name": "stdout",
          "output_type": "stream",
          "text": [
            "['Vikram', 'Anshul', 'Amit', 'Suresh', 'Kamal']\n"
          ]
        }
      ],
      "source": [
        "#create a list of student  Examples of Mutable Data Type\n",
        "\n",
        "name = ['Vikram', 'Anshul', 'Amit', 'Suresh']\n",
        "\n",
        "#add element in the existing list\n",
        "name.append('Kamal')\n",
        "\n",
        "print(name)"
      ]
    },
    {
      "cell_type": "code",
      "execution_count": null,
      "id": "339cfa25-01a9-458a-9454-a0a1833d8031",
      "metadata": {
        "id": "339cfa25-01a9-458a-9454-a0a1833d8031"
      },
      "outputs": [],
      "source": [
        "#example of immutable data type\n",
        "\n",
        "my_string=\"my name is akanksha bhatt\""
      ]
    },
    {
      "cell_type": "code",
      "execution_count": null,
      "id": "8f7a6d7d-6b1a-4712-a88f-9913dee4febb",
      "metadata": {
        "id": "8f7a6d7d-6b1a-4712-a88f-9913dee4febb",
        "outputId": "f960ba8f-e6b3-4a9d-bdec-15ec30b465d9"
      },
      "outputs": [
        {
          "data": {
            "text/plain": [
              "'m'"
            ]
          },
          "execution_count": 35,
          "metadata": {},
          "output_type": "execute_result"
        }
      ],
      "source": [
        "my_string[0]"
      ]
    },
    {
      "cell_type": "code",
      "execution_count": null,
      "id": "de98a4cd-7920-44e1-bb78-a456ee6bb0ae",
      "metadata": {
        "id": "de98a4cd-7920-44e1-bb78-a456ee6bb0ae"
      },
      "outputs": [],
      "source": [
        "tup1=(1,\"a\", True,2,\"b\",False)"
      ]
    },
    {
      "cell_type": "code",
      "execution_count": null,
      "id": "c4f64d6b-19e1-4d7a-8363-81c5d68c4ac8",
      "metadata": {
        "id": "c4f64d6b-19e1-4d7a-8363-81c5d68c4ac8",
        "outputId": "ed722c22-1241-49bf-d7f1-7d3f95c12d20"
      },
      "outputs": [
        {
          "data": {
            "text/plain": [
              "tuple"
            ]
          },
          "execution_count": 39,
          "metadata": {},
          "output_type": "execute_result"
        }
      ],
      "source": [
        "type(tup1)"
      ]
    },
    {
      "cell_type": "code",
      "execution_count": null,
      "id": "119cf229-739d-4721-870f-d68e9703a78e",
      "metadata": {
        "id": "119cf229-739d-4721-870f-d68e9703a78e",
        "outputId": "86ee59f7-3220-4cc9-f946-46c22a87b157"
      },
      "outputs": [
        {
          "data": {
            "text/plain": [
              "1"
            ]
          },
          "execution_count": 43,
          "metadata": {},
          "output_type": "execute_result"
        }
      ],
      "source": [
        "tup1[0]"
      ]
    },
    {
      "cell_type": "code",
      "execution_count": null,
      "id": "0995f559-845e-4c2d-9e3d-efc6fe5427c9",
      "metadata": {
        "id": "0995f559-845e-4c2d-9e3d-efc6fe5427c9",
        "outputId": "a1ab7d6b-220f-484f-d356-e99bd4e51fea"
      },
      "outputs": [
        {
          "data": {
            "text/plain": [
              "(2, 'b', False)"
            ]
          },
          "execution_count": 45,
          "metadata": {},
          "output_type": "execute_result"
        }
      ],
      "source": [
        "tup1[3:6]"
      ]
    },
    {
      "cell_type": "markdown",
      "id": "dbc4834c-ab9d-4b93-ac50-969a3a917f90",
      "metadata": {
        "id": "dbc4834c-ab9d-4b93-ac50-969a3a917f90"
      },
      "source": [
        "4. DIFFERENT TYPE OF OPERATORS IN PYTHON WITH THERE EXAMPLES.\n",
        "\n",
        "Arithmetic operators (+\t, -\t, *\t ,  / ,%, **, //) ,\n",
        "Assignment operators(=, += , -= , *=, /= , **= , %= ,//= ) ,\n",
        "Comparison operators(==\t, !=, >\t, <, >=\t, <= ) ,\n",
        "Logical operators(& , or )\n",
        "\n",
        "HERE ARE SOME EXAMPLES :-"
      ]
    },
    {
      "cell_type": "code",
      "execution_count": null,
      "id": "2589b093-8782-4731-92a8-9890773f758c",
      "metadata": {
        "id": "2589b093-8782-4731-92a8-9890773f758c"
      },
      "outputs": [],
      "source": [
        "#arithmetic operators (+, -\t, *\t ,  /)"
      ]
    },
    {
      "cell_type": "code",
      "execution_count": null,
      "id": "383cc255-21e2-4843-ae71-6402e382a865",
      "metadata": {
        "id": "383cc255-21e2-4843-ae71-6402e382a865"
      },
      "outputs": [],
      "source": [
        "a=10\n",
        "b=20"
      ]
    },
    {
      "cell_type": "code",
      "execution_count": null,
      "id": "42a0f23d-80f2-4e31-bf0e-1a5d0cd34e5d",
      "metadata": {
        "id": "42a0f23d-80f2-4e31-bf0e-1a5d0cd34e5d",
        "outputId": "1613bf52-2ce7-41ce-aadb-416d95414bbf"
      },
      "outputs": [
        {
          "data": {
            "text/plain": [
              "30"
            ]
          },
          "execution_count": 52,
          "metadata": {},
          "output_type": "execute_result"
        }
      ],
      "source": [
        "a+b\n"
      ]
    },
    {
      "cell_type": "code",
      "execution_count": null,
      "id": "47b6f455-1d75-4a10-83cb-3c77e60f7989",
      "metadata": {
        "id": "47b6f455-1d75-4a10-83cb-3c77e60f7989",
        "outputId": "d49aaedc-0032-42d5-e5b5-00f38b8710ad"
      },
      "outputs": [
        {
          "data": {
            "text/plain": [
              "10"
            ]
          },
          "execution_count": 56,
          "metadata": {},
          "output_type": "execute_result"
        }
      ],
      "source": [
        "b-a"
      ]
    },
    {
      "cell_type": "code",
      "execution_count": null,
      "id": "8fe3a638-b7aa-4550-8d13-a15a8d6aa2be",
      "metadata": {
        "id": "8fe3a638-b7aa-4550-8d13-a15a8d6aa2be",
        "outputId": "bd53f588-49e5-4df6-d73c-6e5c5049ce59"
      },
      "outputs": [
        {
          "data": {
            "text/plain": [
              "200"
            ]
          },
          "execution_count": 59,
          "metadata": {},
          "output_type": "execute_result"
        }
      ],
      "source": [
        "a*b"
      ]
    },
    {
      "cell_type": "code",
      "execution_count": null,
      "id": "2d0680ae-cd88-4292-9f83-e22be32be960",
      "metadata": {
        "id": "2d0680ae-cd88-4292-9f83-e22be32be960",
        "outputId": "8fece683-5959-4964-d163-2f75c6e2c83b"
      },
      "outputs": [
        {
          "data": {
            "text/plain": [
              "0.5"
            ]
          },
          "execution_count": 61,
          "metadata": {},
          "output_type": "execute_result"
        }
      ],
      "source": [
        "a/b"
      ]
    },
    {
      "cell_type": "code",
      "execution_count": null,
      "id": "c1a6df0b-6582-43e4-a68a-935cc37eb2c3",
      "metadata": {
        "id": "c1a6df0b-6582-43e4-a68a-935cc37eb2c3"
      },
      "outputs": [],
      "source": [
        "#assignment operators"
      ]
    },
    {
      "cell_type": "code",
      "execution_count": null,
      "id": "44d13b0e-4346-4bd7-aefa-4df73269b418",
      "metadata": {
        "id": "44d13b0e-4346-4bd7-aefa-4df73269b418",
        "outputId": "225ce7e3-3804-4004-a5da-61e917a33cef"
      },
      "outputs": [
        {
          "name": "stdout",
          "output_type": "stream",
          "text": [
            "15\n"
          ]
        }
      ],
      "source": [
        "a = 5\n",
        "b=10\n",
        "a+=b\n",
        "print(a)"
      ]
    },
    {
      "cell_type": "code",
      "execution_count": null,
      "id": "b9bdf8a3-e075-44c1-affb-cf469ffeb2b6",
      "metadata": {
        "id": "b9bdf8a3-e075-44c1-affb-cf469ffeb2b6",
        "outputId": "aa750744-4667-47c4-9d35-ca4fe3a7ab7d"
      },
      "outputs": [
        {
          "name": "stdout",
          "output_type": "stream",
          "text": [
            "-5\n"
          ]
        }
      ],
      "source": [
        "a-=b\n",
        "print(a)"
      ]
    },
    {
      "cell_type": "code",
      "execution_count": null,
      "id": "36d51b9b-4e89-444d-80a5-f596360da874",
      "metadata": {
        "id": "36d51b9b-4e89-444d-80a5-f596360da874",
        "outputId": "e55bb2c3-32ce-43b0-9a6f-a7f3504551e8"
      },
      "outputs": [
        {
          "name": "stdout",
          "output_type": "stream",
          "text": [
            "-50\n"
          ]
        }
      ],
      "source": [
        "a*=b\n",
        "print(a)"
      ]
    },
    {
      "cell_type": "code",
      "execution_count": null,
      "id": "0efa7ede-43c9-4cd1-86ce-740310e412ae",
      "metadata": {
        "id": "0efa7ede-43c9-4cd1-86ce-740310e412ae",
        "outputId": "a9dd4418-5887-48df-9f14-754fef76f06c"
      },
      "outputs": [
        {
          "name": "stdout",
          "output_type": "stream",
          "text": [
            "-0.5\n"
          ]
        }
      ],
      "source": [
        "a/=b\n",
        "print(a)"
      ]
    },
    {
      "cell_type": "code",
      "execution_count": null,
      "id": "8b13cc42-dae0-4803-a86e-6ee8ba5039d2",
      "metadata": {
        "id": "8b13cc42-dae0-4803-a86e-6ee8ba5039d2"
      },
      "outputs": [],
      "source": [
        "#comparison operators/ relational"
      ]
    },
    {
      "cell_type": "code",
      "execution_count": null,
      "id": "ef9bb0e3-fe7f-4254-b145-0e91ec7546f6",
      "metadata": {
        "id": "ef9bb0e3-fe7f-4254-b145-0e91ec7546f6"
      },
      "outputs": [],
      "source": [
        "a=60\n",
        "b=35"
      ]
    },
    {
      "cell_type": "code",
      "execution_count": null,
      "id": "9962bb47-ba0d-4b5d-9911-aa3ef0ae1dff",
      "metadata": {
        "id": "9962bb47-ba0d-4b5d-9911-aa3ef0ae1dff",
        "outputId": "adcbc393-161a-41ac-966b-88604deb9590"
      },
      "outputs": [
        {
          "data": {
            "text/plain": [
              "False"
            ]
          },
          "execution_count": 110,
          "metadata": {},
          "output_type": "execute_result"
        }
      ],
      "source": [
        "a==b"
      ]
    },
    {
      "cell_type": "code",
      "execution_count": null,
      "id": "90859957-16a0-4afe-9ecc-b36aade95a1d",
      "metadata": {
        "id": "90859957-16a0-4afe-9ecc-b36aade95a1d",
        "outputId": "ce765144-e53b-4cc4-82a6-ecbeb5e00e0d"
      },
      "outputs": [
        {
          "data": {
            "text/plain": [
              "True"
            ]
          },
          "execution_count": 114,
          "metadata": {},
          "output_type": "execute_result"
        }
      ],
      "source": [
        "a!=b"
      ]
    },
    {
      "cell_type": "code",
      "execution_count": null,
      "id": "c17da729-eb13-4f87-a1bf-a70041dc233f",
      "metadata": {
        "id": "c17da729-eb13-4f87-a1bf-a70041dc233f",
        "outputId": "90df8c0e-98d4-404a-f6dc-e12855ca38ff"
      },
      "outputs": [
        {
          "data": {
            "text/plain": [
              "False"
            ]
          },
          "execution_count": 116,
          "metadata": {},
          "output_type": "execute_result"
        }
      ],
      "source": [
        "a<b"
      ]
    },
    {
      "cell_type": "code",
      "execution_count": null,
      "id": "ea2168dc-1c91-471c-903c-dded8fe16f7c",
      "metadata": {
        "id": "ea2168dc-1c91-471c-903c-dded8fe16f7c",
        "outputId": "5eccfb66-75e9-4c03-d845-b2517bef2666"
      },
      "outputs": [
        {
          "data": {
            "text/plain": [
              "True"
            ]
          },
          "execution_count": 118,
          "metadata": {},
          "output_type": "execute_result"
        }
      ],
      "source": [
        "a>b"
      ]
    },
    {
      "cell_type": "code",
      "execution_count": null,
      "id": "8ffc8b07-f832-47c6-979c-e303e28f4f3a",
      "metadata": {
        "id": "8ffc8b07-f832-47c6-979c-e303e28f4f3a"
      },
      "outputs": [],
      "source": [
        "#logical operators"
      ]
    },
    {
      "cell_type": "code",
      "execution_count": null,
      "id": "8adb2916-2672-4674-8445-94db45143212",
      "metadata": {
        "id": "8adb2916-2672-4674-8445-94db45143212",
        "outputId": "c46a2258-30a5-4b17-bc20-150b000f7c45"
      },
      "outputs": [
        {
          "name": "stdout",
          "output_type": "stream",
          "text": [
            "Number b is larger\n"
          ]
        }
      ],
      "source": [
        "a = 12\n",
        "b = 26\n",
        "c = 4\n",
        "\n",
        "if a > b and a > c:\n",
        "    print(\"Number a is larger\")\n",
        "\n",
        "if b > a and b > c:\n",
        "    print(\"Number b is larger\")\n",
        "\n",
        "if c > a and c > b:\n",
        "    print(\"Number c is larger\")"
      ]
    },
    {
      "cell_type": "code",
      "execution_count": null,
      "id": "66015aed-58e3-48e3-a253-23fad7b54d52",
      "metadata": {
        "id": "66015aed-58e3-48e3-a253-23fad7b54d52",
        "outputId": "72db988d-24d4-4213-98a0-d21bf7e6ee0a"
      },
      "outputs": [
        {
          "name": "stdout",
          "output_type": "stream",
          "text": [
            "Their product will be negative\n"
          ]
        }
      ],
      "source": [
        "a = 10\n",
        "b = -5\n",
        "\n",
        "if a < 0 or b < 0:\n",
        "  print(\"Their product will be negative\")\n",
        "else:\n",
        "  print(\"Their product will be positive\")"
      ]
    },
    {
      "cell_type": "markdown",
      "id": "50220f03-6251-4b22-a109-2f9769ba5b55",
      "metadata": {
        "id": "50220f03-6251-4b22-a109-2f9769ba5b55"
      },
      "source": [
        "5. TYPE CASTING IN PYTHON WITH EXAMPLES\n",
        "\n",
        "   A:- Casting, also known as type conversion, is a process that converts a variable's data type into another data type. These conversions can be implicit (automatically interpreted) or explicit (using built-in functions).\n",
        "\n",
        "   HERE ARE SOME EXAMPLES:-"
      ]
    },
    {
      "cell_type": "code",
      "execution_count": null,
      "id": "160f6b92-6b19-4d5f-9ab9-93f4e86535f6",
      "metadata": {
        "id": "160f6b92-6b19-4d5f-9ab9-93f4e86535f6",
        "outputId": "aa58d762-8191-4ad8-fa00-9da47f8ce73d"
      },
      "outputs": [
        {
          "name": "stdout",
          "output_type": "stream",
          "text": [
            "1\n",
            "2\n",
            "3\n"
          ]
        }
      ],
      "source": [
        "#casting with integers\n",
        "\n",
        "x = int(1)\n",
        "y = int(2.8)\n",
        "z = int(\"3\")\n",
        "print(x)\n",
        "print(y)\n",
        "print(z)"
      ]
    },
    {
      "cell_type": "code",
      "execution_count": null,
      "id": "de08980e-3f17-4e9d-a5cb-56f216debc3a",
      "metadata": {
        "id": "de08980e-3f17-4e9d-a5cb-56f216debc3a",
        "outputId": "e5fa2ec3-1056-43c9-e922-6a3d3f677704"
      },
      "outputs": [
        {
          "name": "stdout",
          "output_type": "stream",
          "text": [
            "1.0\n",
            "2.8\n",
            "3.0\n",
            "4.2\n"
          ]
        }
      ],
      "source": [
        "#casting with float\n",
        "\n",
        "\n",
        "x = float(1)\n",
        "y = float(2.8)\n",
        "z = float(\"3\")\n",
        "w = float(\"4.2\")\n",
        "print(x)\n",
        "print(y)\n",
        "print(z)\n",
        "print(w)"
      ]
    },
    {
      "cell_type": "code",
      "execution_count": null,
      "id": "cc483725-51b1-4dcb-8cbe-d50a3db51d7e",
      "metadata": {
        "id": "cc483725-51b1-4dcb-8cbe-d50a3db51d7e",
        "outputId": "37608925-6089-40bd-e5d2-e8e44ec26ca0"
      },
      "outputs": [
        {
          "name": "stdout",
          "output_type": "stream",
          "text": [
            "s1\n",
            "2\n",
            "3.0\n"
          ]
        }
      ],
      "source": [
        "#casting with string\n",
        "\n",
        "x = str(\"s1\")\n",
        "y = str(2)\n",
        "z = str(3.0)\n",
        "print(x)\n",
        "print(y)\n",
        "print(z)"
      ]
    },
    {
      "cell_type": "markdown",
      "id": "aa415860-7fa1-41c2-a715-3f33e4b74a9c",
      "metadata": {
        "id": "aa415860-7fa1-41c2-a715-3f33e4b74a9c"
      },
      "source": [
        "6. CONDITIONAL STATEMENT  IN PYTHON WITH EXAMPLES\n",
        "\n",
        "   A:-Conditional Statements are statements in Python that provide a choice for the control flow based on a condition. It means that the control flow of the Python program will be decided based on the outcome of the condition.\n",
        "* If Conditional Statement in Python\n",
        "* If else Conditional Statements in Python\n",
        "* If else Conditional Statements in Python\n",
        "* If-elif-else Conditional Statements in Python\n",
        "\n",
        "\n",
        "  HERE ARE SOME EXAMPLES:-"
      ]
    },
    {
      "cell_type": "code",
      "execution_count": null,
      "id": "57ee6a0a-ef67-448d-b122-27af12c48ec5",
      "metadata": {
        "id": "57ee6a0a-ef67-448d-b122-27af12c48ec5"
      },
      "outputs": [],
      "source": [
        "#if condition"
      ]
    },
    {
      "cell_type": "code",
      "execution_count": null,
      "id": "5cbc0f0e-9b38-4e54-b766-6150877f04fc",
      "metadata": {
        "id": "5cbc0f0e-9b38-4e54-b766-6150877f04fc",
        "outputId": "c7c0427c-d1bc-4e05-8d78-aa5555f60694"
      },
      "outputs": [
        {
          "name": "stdout",
          "output_type": "stream",
          "text": [
            "10 greater than 5\n"
          ]
        }
      ],
      "source": [
        "if 10 > 5:\n",
        "    print(\"10 greater than 5\")\n"
      ]
    },
    {
      "cell_type": "code",
      "execution_count": null,
      "id": "7d1fbf22-7352-49f1-b180-b67d7c50a4cd",
      "metadata": {
        "id": "7d1fbf22-7352-49f1-b180-b67d7c50a4cd"
      },
      "outputs": [],
      "source": [
        "#If else Conditional Statements"
      ]
    },
    {
      "cell_type": "code",
      "execution_count": null,
      "id": "969b09a2-96eb-4222-a9f3-a756ff6b9a93",
      "metadata": {
        "id": "969b09a2-96eb-4222-a9f3-a756ff6b9a93",
        "outputId": "b87b65f2-c5a4-4781-bcb5-8b897cc5bb1a"
      },
      "outputs": [
        {
          "name": "stdout",
          "output_type": "stream",
          "text": [
            "No\n"
          ]
        }
      ],
      "source": [
        "x = 3\n",
        "if x == 4:\n",
        "    print(\"Yes\")\n",
        "else:\n",
        "    print(\"No\")"
      ]
    },
    {
      "cell_type": "code",
      "execution_count": null,
      "id": "6f20f93a-9643-4b54-aeb1-ac8baf315480",
      "metadata": {
        "id": "6f20f93a-9643-4b54-aeb1-ac8baf315480"
      },
      "outputs": [],
      "source": [
        "#Nested if..else Conditional Statement"
      ]
    },
    {
      "cell_type": "code",
      "execution_count": null,
      "id": "923f25db-700d-4603-9476-48d5fbfc2c7d",
      "metadata": {
        "id": "923f25db-700d-4603-9476-48d5fbfc2c7d",
        "outputId": "81ed11e7-f9a4-495c-c678-f6bc8d23ffa3"
      },
      "outputs": [
        {
          "name": "stdout",
          "output_type": "stream",
          "text": [
            "letter is A\n"
          ]
        }
      ],
      "source": [
        "letter = \"A\"\n",
        "\n",
        "if letter == \"B\":\n",
        "    print(\"letter is B\")\n",
        "\n",
        "else:\n",
        "\n",
        "    if letter == \"C\":\n",
        "        print(\"letter is C\")\n",
        "\n",
        "    else:\n",
        "\n",
        "        if letter == \"A\":\n",
        "            print(\"letter is A\")\n",
        "\n",
        "        else:\n",
        "            print(\"letter isn't A, B and C\")"
      ]
    },
    {
      "cell_type": "code",
      "execution_count": null,
      "id": "618c7601-4fb5-4bbc-9a3a-55a6991d410a",
      "metadata": {
        "id": "618c7601-4fb5-4bbc-9a3a-55a6991d410a"
      },
      "outputs": [],
      "source": [
        "#If-elif-else Conditional Statement"
      ]
    },
    {
      "cell_type": "code",
      "execution_count": null,
      "id": "566c6b84-4e39-4147-9cf4-5a83d3122084",
      "metadata": {
        "id": "566c6b84-4e39-4147-9cf4-5a83d3122084",
        "outputId": "3c672665-87d5-4de0-b3d2-331fac2347ac"
      },
      "outputs": [
        {
          "name": "stdout",
          "output_type": "stream",
          "text": [
            "letter is A\n"
          ]
        }
      ],
      "source": [
        "letter = \"A\"\n",
        "\n",
        "if letter == \"B\":\n",
        "    print(\"letter is B\")\n",
        "\n",
        "elif letter == \"C\":\n",
        "    print(\"letter is C\")\n",
        "\n",
        "elif letter == \"A\":\n",
        "    print(\"letter is A\")\n",
        "\n",
        "else:\n",
        "    print(\"letter isn't A, B or C\")"
      ]
    },
    {
      "cell_type": "markdown",
      "id": "d509c3fd-d9d3-415f-91bd-887f8df84b64",
      "metadata": {
        "id": "d509c3fd-d9d3-415f-91bd-887f8df84b64"
      },
      "source": [
        "7. DIFFERENT TYPE OF LOOP WITH EXAMPLES .\n",
        "\n",
        "   A:-Python has two primitive loop commands\n",
        "      * while loops - The while Loop With the while loop we can execute a set of statements as long as a condition is true.\n",
        "        \n",
        "      * for loops - A for loop is used for iterating over a sequence (that is either a list, a tuple, a dictionary, a set, or a string).\n",
        "        \n",
        "          \n",
        "\n"
      ]
    },
    {
      "cell_type": "code",
      "execution_count": null,
      "id": "d93679ad-fdef-4c33-a94c-6be7dcea5460",
      "metadata": {
        "id": "d93679ad-fdef-4c33-a94c-6be7dcea5460"
      },
      "outputs": [],
      "source": []
    },
    {
      "cell_type": "code",
      "execution_count": null,
      "id": "381f01ce-4a0a-4b90-9c9d-ca9761c8dfa6",
      "metadata": {
        "id": "381f01ce-4a0a-4b90-9c9d-ca9761c8dfa6",
        "outputId": "7bb778e6-619f-436e-8398-d1121902cbc6"
      },
      "outputs": [
        {
          "name": "stdout",
          "output_type": "stream",
          "text": [
            "1\n",
            "2\n",
            "3\n"
          ]
        }
      ],
      "source": [
        "#WHILE LOOP\n",
        "\n",
        "#Exit the loop when i is 3:(BREAK STATEMENT)\n",
        "\n",
        "i = 1\n",
        "while i < 6:\n",
        "  print(i)\n",
        "  if i == 3:\n",
        "    break\n",
        "  i += 1"
      ]
    },
    {
      "cell_type": "code",
      "execution_count": null,
      "id": "60dd4517-25c5-4d14-97bd-e14bed7756c0",
      "metadata": {
        "id": "60dd4517-25c5-4d14-97bd-e14bed7756c0",
        "outputId": "7e3086de-8533-41cb-9411-784334ce86bf"
      },
      "outputs": [
        {
          "name": "stdout",
          "output_type": "stream",
          "text": [
            "1\n",
            "2\n",
            "4\n",
            "5\n",
            "6\n"
          ]
        }
      ],
      "source": [
        "#Continue to the next iteration if i is 3: (CONTINUE STATEMENTS)\n",
        "\n",
        "i = 0\n",
        "while i < 6:\n",
        "  i += 1\n",
        "  if i == 3:\n",
        "    continue\n",
        "  print(i)"
      ]
    },
    {
      "cell_type": "code",
      "execution_count": null,
      "id": "bb5f5f0f-e75b-4c9c-8ca3-970e9886120e",
      "metadata": {
        "id": "bb5f5f0f-e75b-4c9c-8ca3-970e9886120e",
        "outputId": "7e790f1d-cd11-4078-bda2-eed45034af61"
      },
      "outputs": [
        {
          "name": "stdout",
          "output_type": "stream",
          "text": [
            "1\n",
            "2\n",
            "3\n",
            "4\n",
            "5\n",
            "i is no longer less than 6\n"
          ]
        }
      ],
      "source": [
        "#Print a message once the condition is false: (THE ELSE STATEMENT)\n",
        "\n",
        "i = 1\n",
        "while i < 6:\n",
        "  print(i)\n",
        "  i += 1\n",
        "else:\n",
        "  print(\"i is no longer less than 6\")"
      ]
    },
    {
      "cell_type": "code",
      "execution_count": null,
      "id": "57db041a-4481-47fe-b449-aff66f21e32e",
      "metadata": {
        "id": "57db041a-4481-47fe-b449-aff66f21e32e",
        "outputId": "394b934b-a9f6-4fc9-d6fe-c091e4426dd0"
      },
      "outputs": [
        {
          "name": "stdout",
          "output_type": "stream",
          "text": [
            "b\n",
            "a\n",
            "n\n",
            "a\n",
            "n\n",
            "a\n"
          ]
        }
      ],
      "source": [
        "#FOR LOOP\n",
        "\n",
        "\n",
        "#LOOPING THROUGH A STRING\n",
        "#Loop through the letters in the word \"banana\":\n",
        "\n",
        "for x in \"banana\":\n",
        "  print(x)"
      ]
    },
    {
      "cell_type": "code",
      "execution_count": null,
      "id": "36cacf05-6b41-4b7d-ac4b-40141c391903",
      "metadata": {
        "id": "36cacf05-6b41-4b7d-ac4b-40141c391903",
        "outputId": "0f6f939d-9c9c-450a-db62-e23c1f74cbf5"
      },
      "outputs": [
        {
          "name": "stdout",
          "output_type": "stream",
          "text": [
            "apple\n",
            "banana\n"
          ]
        }
      ],
      "source": [
        "#Exit the loop when x is \"banana\": (BREAK STATEMENT)\n",
        "\n",
        "fruits = [\"apple\", \"banana\", \"cherry\"]\n",
        "for x in fruits:\n",
        "  print(x)\n",
        "  if x == \"banana\":\n",
        "    break"
      ]
    },
    {
      "cell_type": "code",
      "execution_count": null,
      "id": "e165ca53-69b7-47f0-af31-f806ad8577d5",
      "metadata": {
        "id": "e165ca53-69b7-47f0-af31-f806ad8577d5",
        "outputId": "fa31744b-3878-456c-9fe9-896685cdecdb"
      },
      "outputs": [
        {
          "name": "stdout",
          "output_type": "stream",
          "text": [
            "apple\n",
            "cherry\n"
          ]
        }
      ],
      "source": [
        "#Do not print banana:(CONTINUE STATEMENT)\n",
        "\n",
        "fruits = [\"apple\", \"banana\", \"cherry\"]\n",
        "for x in fruits:\n",
        "  if x == \"banana\":\n",
        "    continue\n",
        "  print(x)"
      ]
    },
    {
      "cell_type": "code",
      "execution_count": null,
      "id": "c51d1fbb-1908-4fdd-b373-2086b95dc610",
      "metadata": {
        "id": "c51d1fbb-1908-4fdd-b373-2086b95dc610",
        "outputId": "2b080a68-b2fb-4f4e-b57c-aa2d9ac73403"
      },
      "outputs": [
        {
          "name": "stdout",
          "output_type": "stream",
          "text": [
            "0\n",
            "1\n",
            "2\n",
            "3\n",
            "4\n",
            "5\n",
            "Finally finished!\n"
          ]
        }
      ],
      "source": [
        "#Else in For Loop\n",
        "#Print all numbers from 0 to 5, and print a message when the loop has ended:\n",
        "\n",
        "for x in range(6):\n",
        "  print(x)\n",
        "else:\n",
        "  print(\"Finally finished!\")"
      ]
    },
    {
      "cell_type": "code",
      "execution_count": null,
      "id": "e688ef18-85a7-45ff-86a5-4d51eed39b5c",
      "metadata": {
        "id": "e688ef18-85a7-45ff-86a5-4d51eed39b5c",
        "outputId": "674a8869-3ed4-48cf-82f8-97191506383d"
      },
      "outputs": [
        {
          "name": "stdout",
          "output_type": "stream",
          "text": [
            "red apple\n",
            "red banana\n",
            "red cherry\n",
            "big apple\n",
            "big banana\n",
            "big cherry\n",
            "tasty apple\n",
            "tasty banana\n",
            "tasty cherry\n"
          ]
        }
      ],
      "source": [
        "#Print each adjective for every fruit: (NESTED LOOP)\n",
        "\n",
        "adj = [\"red\", \"big\", \"tasty\"]\n",
        "fruits = [\"apple\", \"banana\", \"cherry\"]\n",
        "\n",
        "for x in adj:\n",
        "  for y in fruits:\n",
        "    print(x, y)"
      ]
    }
  ],
  "metadata": {
    "kernelspec": {
      "display_name": "Python 3 (ipykernel)",
      "language": "python",
      "name": "python3"
    },
    "language_info": {
      "codemirror_mode": {
        "name": "ipython",
        "version": 3
      },
      "file_extension": ".py",
      "mimetype": "text/x-python",
      "name": "python",
      "nbconvert_exporter": "python",
      "pygments_lexer": "ipython3",
      "version": "3.12.7"
    },
    "colab": {
      "provenance": [],
      "toc_visible": true,
      "include_colab_link": true
    }
  },
  "nbformat": 4,
  "nbformat_minor": 5
}